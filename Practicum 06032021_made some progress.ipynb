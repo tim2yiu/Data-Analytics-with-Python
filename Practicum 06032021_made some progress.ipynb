{
 "cells": [
  {
   "cell_type": "code",
   "execution_count": 1,
   "metadata": {},
   "outputs": [
    {
     "name": "stdout",
     "output_type": "stream",
     "text": [
      "Requirement already satisfied: wrds in c:\\users\\16262\\anaconda3\\lib\\site-packages (3.0.8)\n",
      "Requirement already satisfied: mock in c:\\users\\16262\\anaconda3\\lib\\site-packages (from wrds) (4.0.2)\n",
      "Requirement already satisfied: pandas in c:\\users\\16262\\anaconda3\\lib\\site-packages (from wrds) (1.1.3)\n",
      "Requirement already satisfied: sqlalchemy in c:\\users\\16262\\anaconda3\\lib\\site-packages (from wrds) (1.3.20)\n",
      "Requirement already satisfied: psycopg2-binary in c:\\users\\16262\\anaconda3\\lib\\site-packages (from wrds) (2.8.6)\n",
      "Requirement already satisfied: pytz>=2017.2 in c:\\users\\16262\\anaconda3\\lib\\site-packages (from pandas->wrds) (2020.1)\n",
      "Requirement already satisfied: python-dateutil>=2.7.3 in c:\\users\\16262\\anaconda3\\lib\\site-packages (from pandas->wrds) (2.8.1)\n",
      "Requirement already satisfied: numpy>=1.15.4 in c:\\users\\16262\\anaconda3\\lib\\site-packages (from pandas->wrds) (1.19.2)\n",
      "Requirement already satisfied: six>=1.5 in c:\\users\\16262\\anaconda3\\lib\\site-packages (from python-dateutil>=2.7.3->pandas->wrds) (1.15.0)\n",
      "Note: you may need to restart the kernel to use updated packages.\n"
     ]
    }
   ],
   "source": [
    "pip install wrds"
   ]
  },
  {
   "cell_type": "code",
   "execution_count": 2,
   "metadata": {
    "scrolled": true
   },
   "outputs": [],
   "source": [
    "import wrds\n",
    "import pandas as pd\n",
    "import seaborn as sns\n",
    "import numpy as np\n",
    "import matplotlib.pyplot as plt\n",
    "import sklearn as sk\n",
    "import sklearn.tree as tree\n",
    "from IPython.display import Image  \n",
    "import pydotplus\n",
    "pd.set_option('display.max_rows', 1000)\n",
    "\n"
   ]
  },
  {
   "cell_type": "code",
   "execution_count": 3,
   "metadata": {},
   "outputs": [
    {
     "name": "stdout",
     "output_type": "stream",
     "text": [
      "Enter your WRDS username [tim]:cyiu\n",
      "Enter your password:········\n",
      "WRDS recommends setting up a .pgpass file.\n",
      "You can find more info here:\n",
      "https://www.postgresql.org/docs/9.5/static/libpq-pgpass.html.\n",
      "Loading library list...\n",
      "Done\n"
     ]
    }
   ],
   "source": [
    "db = wrds.Connection()"
   ]
  },
  {
   "cell_type": "code",
   "execution_count": 4,
   "metadata": {},
   "outputs": [],
   "source": [
    "#daily stock price\n",
    "stocks = db.raw_sql(\"select datadate, tic, prccq, xrdq, actq, atq from comp.fundq WHERE datadate >= '2000-1-1' order by tic\")"
   ]
  },
  {
   "cell_type": "code",
   "execution_count": 5,
   "metadata": {},
   "outputs": [
    {
     "data": {
      "text/plain": [
       "(962577, 6)"
      ]
     },
     "execution_count": 5,
     "metadata": {},
     "output_type": "execute_result"
    }
   ],
   "source": [
    "stocks.shape"
   ]
  },
  {
   "cell_type": "code",
   "execution_count": 7,
   "metadata": {},
   "outputs": [],
   "source": [
    "stocks['1Q_return'] = np.where(stocks['tic']==stocks['tic'].shift(-1), \\\n",
    "                                  (stocks.prccq.shift(-1)/stocks.prccq-1),'0')"
   ]
  },
  {
   "cell_type": "code",
   "execution_count": null,
   "metadata": {},
   "outputs": [],
   "source": []
  },
  {
   "cell_type": "code",
   "execution_count": 8,
   "metadata": {},
   "outputs": [],
   "source": [
    "stocks = stocks.dropna()"
   ]
  },
  {
   "cell_type": "code",
   "execution_count": 9,
   "metadata": {},
   "outputs": [
    {
     "data": {
      "text/plain": [
       "(248746, 7)"
      ]
     },
     "execution_count": 9,
     "metadata": {},
     "output_type": "execute_result"
    }
   ],
   "source": [
    "stocks.shape"
   ]
  },
  {
   "cell_type": "code",
   "execution_count": null,
   "metadata": {},
   "outputs": [],
   "source": []
  },
  {
   "cell_type": "code",
   "execution_count": null,
   "metadata": {},
   "outputs": [],
   "source": [
    "#stocks['price_change'] = np.where(stocks['tic']==stocks['tic'].shift(-1), \\\n",
    "                                  #(100. * stocks.prccq.shift(-1)/stocks.prccq-1).round(1).astype(str) + '%','0')"
   ]
  },
  {
   "cell_type": "code",
   "execution_count": null,
   "metadata": {},
   "outputs": [],
   "source": [
    "stocks[stocks.tic=='SQ']"
   ]
  },
  {
   "cell_type": "code",
   "execution_count": null,
   "metadata": {},
   "outputs": [],
   "source": [
    "#def selectTicker():\n",
    "   # entry = input('Enter ticker: ')\n",
    "    #ticker = entry.upper()\n",
    "   # return stocks.query(f'tic == \"{ticker}\"')\n",
    "\n",
    "#x = selectTicker()\n",
    "\n",
    "#x.head()"
   ]
  },
  {
   "cell_type": "code",
   "execution_count": 10,
   "metadata": {},
   "outputs": [],
   "source": [
    "stocks[\"R&D / Assets\"] = stocks[\"xrdq\"]/stocks[\"atq\"]"
   ]
  },
  {
   "cell_type": "code",
   "execution_count": 11,
   "metadata": {},
   "outputs": [
    {
     "data": {
      "text/plain": [
       "datadate        False\n",
       "tic             False\n",
       "prccq           False\n",
       "xrdq            False\n",
       "actq            False\n",
       "atq             False\n",
       "1Q_return       False\n",
       "R&D / Assets     True\n",
       "dtype: bool"
      ]
     },
     "execution_count": 11,
     "metadata": {},
     "output_type": "execute_result"
    }
   ],
   "source": [
    "stocks.isna().any()"
   ]
  },
  {
   "cell_type": "code",
   "execution_count": 12,
   "metadata": {},
   "outputs": [],
   "source": [
    "# I noticed that there is outlier and the r&d over sales is inf, so i have decided to drop it\n",
    "drop_max = stocks[stocks['R&D / Assets'] == stocks['R&D / Assets'].max()].index\n",
    "stocks.drop(drop_max, inplace=True)\n",
    "drop_min = stocks[stocks['R&D / Assets'] == stocks['R&D / Assets'].min()].index\n",
    "stocks.drop(drop_min, inplace=True)"
   ]
  },
  {
   "cell_type": "code",
   "execution_count": 13,
   "metadata": {},
   "outputs": [],
   "source": [
    "median = stocks['R&D / Assets'].median()"
   ]
  },
  {
   "cell_type": "code",
   "execution_count": 14,
   "metadata": {},
   "outputs": [
    {
     "data": {
      "text/plain": [
       "0.017858260726053826"
      ]
     },
     "execution_count": 14,
     "metadata": {},
     "output_type": "execute_result"
    }
   ],
   "source": [
    "median"
   ]
  },
  {
   "cell_type": "code",
   "execution_count": 15,
   "metadata": {},
   "outputs": [],
   "source": [
    "# portfolio1 is the companies that have R&D / Assets above the threshold\n",
    "portfolio1 = stocks[stocks['R&D / Assets'] >= median]\n",
    "#portfolio2 is the companies that have R&D / Assets below the threshold\n",
    "portfolio2 = stocks[stocks['R&D / Assets'] <= median]\n"
   ]
  },
  {
   "cell_type": "code",
   "execution_count": null,
   "metadata": {},
   "outputs": [],
   "source": []
  },
  {
   "cell_type": "code",
   "execution_count": null,
   "metadata": {},
   "outputs": [],
   "source": []
  },
  {
   "cell_type": "code",
   "execution_count": 16,
   "metadata": {},
   "outputs": [
    {
     "data": {
      "text/html": [
       "<div>\n",
       "<style scoped>\n",
       "    .dataframe tbody tr th:only-of-type {\n",
       "        vertical-align: middle;\n",
       "    }\n",
       "\n",
       "    .dataframe tbody tr th {\n",
       "        vertical-align: top;\n",
       "    }\n",
       "\n",
       "    .dataframe thead th {\n",
       "        text-align: right;\n",
       "    }\n",
       "</style>\n",
       "<table border=\"1\" class=\"dataframe\">\n",
       "  <thead>\n",
       "    <tr style=\"text-align: right;\">\n",
       "      <th></th>\n",
       "      <th>datadate</th>\n",
       "      <th>tic</th>\n",
       "      <th>prccq</th>\n",
       "      <th>xrdq</th>\n",
       "      <th>actq</th>\n",
       "      <th>atq</th>\n",
       "      <th>1Q_return</th>\n",
       "      <th>R&amp;D / Assets</th>\n",
       "    </tr>\n",
       "  </thead>\n",
       "  <tbody>\n",
       "    <tr>\n",
       "      <th>3100</th>\n",
       "      <td>2000-03-31</td>\n",
       "      <td>0139A</td>\n",
       "      <td>37.7500</td>\n",
       "      <td>34.179</td>\n",
       "      <td>756.384</td>\n",
       "      <td>1671.196</td>\n",
       "      <td>-0.17880794701986757</td>\n",
       "      <td>0.020452</td>\n",
       "    </tr>\n",
       "    <tr>\n",
       "      <th>3101</th>\n",
       "      <td>2000-06-30</td>\n",
       "      <td>0139A</td>\n",
       "      <td>31.0000</td>\n",
       "      <td>35.031</td>\n",
       "      <td>764.385</td>\n",
       "      <td>1663.766</td>\n",
       "      <td>0.38104838709677424</td>\n",
       "      <td>0.021055</td>\n",
       "    </tr>\n",
       "    <tr>\n",
       "      <th>3102</th>\n",
       "      <td>2000-09-30</td>\n",
       "      <td>0139A</td>\n",
       "      <td>42.8125</td>\n",
       "      <td>34.879</td>\n",
       "      <td>808.337</td>\n",
       "      <td>1741.879</td>\n",
       "      <td>0.10072992700729921</td>\n",
       "      <td>0.020024</td>\n",
       "    </tr>\n",
       "    <tr>\n",
       "      <th>3103</th>\n",
       "      <td>2000-12-31</td>\n",
       "      <td>0139A</td>\n",
       "      <td>47.1250</td>\n",
       "      <td>53.609</td>\n",
       "      <td>911.742</td>\n",
       "      <td>1845.185</td>\n",
       "      <td>0.04466843501326245</td>\n",
       "      <td>0.029053</td>\n",
       "    </tr>\n",
       "    <tr>\n",
       "      <th>3104</th>\n",
       "      <td>2001-03-31</td>\n",
       "      <td>0139A</td>\n",
       "      <td>49.2300</td>\n",
       "      <td>41.687</td>\n",
       "      <td>983.382</td>\n",
       "      <td>1913.160</td>\n",
       "      <td>-0.3904123501929717</td>\n",
       "      <td>0.021790</td>\n",
       "    </tr>\n",
       "  </tbody>\n",
       "</table>\n",
       "</div>"
      ],
      "text/plain": [
       "        datadate    tic    prccq    xrdq     actq       atq  \\\n",
       "3100  2000-03-31  0139A  37.7500  34.179  756.384  1671.196   \n",
       "3101  2000-06-30  0139A  31.0000  35.031  764.385  1663.766   \n",
       "3102  2000-09-30  0139A  42.8125  34.879  808.337  1741.879   \n",
       "3103  2000-12-31  0139A  47.1250  53.609  911.742  1845.185   \n",
       "3104  2001-03-31  0139A  49.2300  41.687  983.382  1913.160   \n",
       "\n",
       "                 1Q_return  R&D / Assets  \n",
       "3100  -0.17880794701986757      0.020452  \n",
       "3101   0.38104838709677424      0.021055  \n",
       "3102   0.10072992700729921      0.020024  \n",
       "3103   0.04466843501326245      0.029053  \n",
       "3104   -0.3904123501929717      0.021790  "
      ]
     },
     "execution_count": 16,
     "metadata": {},
     "output_type": "execute_result"
    }
   ],
   "source": [
    "portfolio1.head()"
   ]
  },
  {
   "cell_type": "code",
   "execution_count": 22,
   "metadata": {},
   "outputs": [
    {
     "name": "stderr",
     "output_type": "stream",
     "text": [
      "<ipython-input-22-a5965a9f2b37>:1: SettingWithCopyWarning: \n",
      "A value is trying to be set on a copy of a slice from a DataFrame.\n",
      "Try using .loc[row_indexer,col_indexer] = value instead\n",
      "\n",
      "See the caveats in the documentation: https://pandas.pydata.org/pandas-docs/stable/user_guide/indexing.html#returning-a-view-versus-a-copy\n",
      "  portfolio1['1Q_return'] = portfolio1['1Q_return'].astype(float)\n"
     ]
    }
   ],
   "source": [
    "portfolio1['1Q_return'] = portfolio1['1Q_return'].astype(float)"
   ]
  },
  {
   "cell_type": "code",
   "execution_count": 25,
   "metadata": {},
   "outputs": [],
   "source": [
    "test = portfolio1.groupby('tic')['1Q_return'].mean().sort_values()"
   ]
  },
  {
   "cell_type": "code",
   "execution_count": 26,
   "metadata": {},
   "outputs": [],
   "source": [
    "test = test.dropna()"
   ]
  },
  {
   "cell_type": "code",
   "execution_count": 27,
   "metadata": {},
   "outputs": [
    {
     "data": {
      "text/plain": [
       "tic\n",
       "NWTT      -0.999800\n",
       "ABQQ      -0.996600\n",
       "CHIT      -0.993617\n",
       "CDDT      -0.975000\n",
       "CGUD      -0.953333\n",
       "            ...    \n",
       "MXBTF    106.232143\n",
       "XKEM     127.154334\n",
       "CDWD     143.022573\n",
       "BVTK     264.887565\n",
       "PTIX     406.055106\n",
       "Name: 1Q_return, Length: 6173, dtype: float64"
      ]
     },
     "execution_count": 27,
     "metadata": {},
     "output_type": "execute_result"
    }
   ],
   "source": [
    "test"
   ]
  },
  {
   "cell_type": "code",
   "execution_count": 28,
   "metadata": {},
   "outputs": [],
   "source": [
    "Q1 = np.quantile(test,0.25)\n",
    "Q3 = np.quantile(test,0.75)\n"
   ]
  },
  {
   "cell_type": "code",
   "execution_count": 34,
   "metadata": {},
   "outputs": [],
   "source": [
    "test2 = test[(test.values>= Q1) & (test.values <= Q3)].sort_values()"
   ]
  },
  {
   "cell_type": "code",
   "execution_count": 36,
   "metadata": {},
   "outputs": [
    {
     "data": {
      "text/plain": [
       "tic\n",
       "CCHE      0.000026\n",
       "LINN      0.000072\n",
       "DMRC.1    0.000173\n",
       "GLYC      0.000190\n",
       "AKAOQ     0.000236\n",
       "            ...   \n",
       "XMEX      0.155550\n",
       "PACB      0.155666\n",
       "EVSNF     0.155708\n",
       "ZSPH      0.155790\n",
       "PROXQ     0.155945\n",
       "Name: 1Q_return, Length: 2434, dtype: float64"
      ]
     },
     "execution_count": 36,
     "metadata": {},
     "output_type": "execute_result"
    }
   ],
   "source": [
    "test2[test2 > 0]"
   ]
  },
  {
   "cell_type": "code",
   "execution_count": 38,
   "metadata": {},
   "outputs": [
    {
     "data": {
      "text/plain": [
       "522"
      ]
     },
     "execution_count": 38,
     "metadata": {},
     "output_type": "execute_result"
    }
   ],
   "source": [
    "len(test2[test2 <0])"
   ]
  },
  {
   "cell_type": "code",
   "execution_count": null,
   "metadata": {},
   "outputs": [],
   "source": []
  },
  {
   "cell_type": "code",
   "execution_count": null,
   "metadata": {},
   "outputs": [],
   "source": []
  },
  {
   "cell_type": "code",
   "execution_count": null,
   "metadata": {},
   "outputs": [],
   "source": []
  },
  {
   "cell_type": "code",
   "execution_count": null,
   "metadata": {},
   "outputs": [],
   "source": []
  },
  {
   "cell_type": "code",
   "execution_count": null,
   "metadata": {},
   "outputs": [],
   "source": []
  },
  {
   "cell_type": "code",
   "execution_count": null,
   "metadata": {},
   "outputs": [],
   "source": []
  },
  {
   "cell_type": "code",
   "execution_count": null,
   "metadata": {},
   "outputs": [],
   "source": []
  },
  {
   "cell_type": "code",
   "execution_count": null,
   "metadata": {},
   "outputs": [],
   "source": []
  },
  {
   "cell_type": "code",
   "execution_count": null,
   "metadata": {},
   "outputs": [],
   "source": [
    "portfolio2.shape"
   ]
  },
  {
   "cell_type": "code",
   "execution_count": null,
   "metadata": {},
   "outputs": [],
   "source": [
    "portfolio1['price_change'] = portfolio1.price_change.astype(float)\n",
    "portfolio1.price_change.mean()"
   ]
  },
  {
   "cell_type": "code",
   "execution_count": null,
   "metadata": {},
   "outputs": [],
   "source": [
    "portfolio2['price_change'] = portfolio2.price_change.astype(float)\n",
    "portfolio2.price_change.mean()"
   ]
  },
  {
   "cell_type": "code",
   "execution_count": null,
   "metadata": {},
   "outputs": [],
   "source": [
    "portfolio1_negative = portfolio1[portfolio1.price_change < 0]"
   ]
  },
  {
   "cell_type": "code",
   "execution_count": null,
   "metadata": {},
   "outputs": [],
   "source": [
    "portfolio1_negative.price_change.mean()"
   ]
  },
  {
   "cell_type": "code",
   "execution_count": null,
   "metadata": {},
   "outputs": [],
   "source": []
  },
  {
   "cell_type": "code",
   "execution_count": null,
   "metadata": {},
   "outputs": [],
   "source": [
    "portfolio2_negative = portfolio2[portfolio2.price_change < 0]\n",
    "portfolio2_negative.price_change.mean()"
   ]
  },
  {
   "cell_type": "code",
   "execution_count": null,
   "metadata": {},
   "outputs": [],
   "source": [
    "portfolio1_positive = portfolio1[portfolio1.price_change > 0]\n",
    "portfolio1_positive.price_change.mean()"
   ]
  },
  {
   "cell_type": "code",
   "execution_count": null,
   "metadata": {},
   "outputs": [],
   "source": [
    "portfolio2_positive = portfolio2[portfolio2.price_change > 0]\n",
    "portfolio2_positive.price_change.mean()"
   ]
  },
  {
   "cell_type": "code",
   "execution_count": null,
   "metadata": {},
   "outputs": [],
   "source": []
  },
  {
   "cell_type": "code",
   "execution_count": null,
   "metadata": {},
   "outputs": [],
   "source": [
    "portfolio1_positive.groupby('tic')['price_change'].count().sort_values()"
   ]
  },
  {
   "cell_type": "code",
   "execution_count": null,
   "metadata": {},
   "outputs": [],
   "source": [
    "a = portfolio1.groupby('tic')['price_change'].mean()"
   ]
  },
  {
   "cell_type": "code",
   "execution_count": null,
   "metadata": {},
   "outputs": [],
   "source": [
    "a"
   ]
  },
  {
   "cell_type": "code",
   "execution_count": null,
   "metadata": {},
   "outputs": [],
   "source": [
    "Q1 = np.quantile(a.values,0.25)\n",
    "Q3 = np.quantile(a.values,0.75)"
   ]
  },
  {
   "cell_type": "code",
   "execution_count": null,
   "metadata": {},
   "outputs": [],
   "source": [
    "a[(a >= Q1) & (a <= Q3)]"
   ]
  },
  {
   "cell_type": "code",
   "execution_count": null,
   "metadata": {},
   "outputs": [],
   "source": []
  },
  {
   "cell_type": "code",
   "execution_count": null,
   "metadata": {},
   "outputs": [],
   "source": []
  },
  {
   "cell_type": "code",
   "execution_count": null,
   "metadata": {},
   "outputs": [],
   "source": []
  },
  {
   "cell_type": "code",
   "execution_count": null,
   "metadata": {},
   "outputs": [],
   "source": []
  },
  {
   "cell_type": "code",
   "execution_count": null,
   "metadata": {},
   "outputs": [],
   "source": []
  },
  {
   "cell_type": "code",
   "execution_count": null,
   "metadata": {},
   "outputs": [],
   "source": []
  },
  {
   "cell_type": "code",
   "execution_count": null,
   "metadata": {},
   "outputs": [],
   "source": []
  },
  {
   "cell_type": "code",
   "execution_count": null,
   "metadata": {},
   "outputs": [],
   "source": []
  },
  {
   "cell_type": "code",
   "execution_count": null,
   "metadata": {},
   "outputs": [],
   "source": []
  },
  {
   "cell_type": "code",
   "execution_count": null,
   "metadata": {},
   "outputs": [],
   "source": [
    "a = a.dropna()"
   ]
  },
  {
   "cell_type": "code",
   "execution_count": null,
   "metadata": {},
   "outputs": [],
   "source": [
    "a.sort_values()"
   ]
  },
  {
   "cell_type": "code",
   "execution_count": null,
   "metadata": {},
   "outputs": [],
   "source": [
    "portfolio1_positive = a[a.values > 0]"
   ]
  },
  {
   "cell_type": "code",
   "execution_count": null,
   "metadata": {},
   "outputs": [],
   "source": [
    "portfolio1_positive"
   ]
  },
  {
   "cell_type": "code",
   "execution_count": null,
   "metadata": {},
   "outputs": [],
   "source": []
  },
  {
   "cell_type": "code",
   "execution_count": null,
   "metadata": {},
   "outputs": [],
   "source": [
    "Q1 = np.quantile(portfolio1_positive.values,0.25)\n",
    "Q3 = np.quantile(portfolio1_positive.values,0.75)"
   ]
  },
  {
   "cell_type": "code",
   "execution_count": null,
   "metadata": {},
   "outputs": [],
   "source": [
    "portfolio1_positive[(portfolio1_positive >= Q1) & (portfolio1_positive <= Q3)]"
   ]
  },
  {
   "cell_type": "markdown",
   "metadata": {},
   "source": [
    "### "
   ]
  },
  {
   "cell_type": "code",
   "execution_count": null,
   "metadata": {},
   "outputs": [],
   "source": []
  },
  {
   "cell_type": "code",
   "execution_count": null,
   "metadata": {},
   "outputs": [],
   "source": [
    "portfolio1_positive"
   ]
  },
  {
   "cell_type": "code",
   "execution_count": null,
   "metadata": {},
   "outputs": [],
   "source": []
  },
  {
   "cell_type": "code",
   "execution_count": null,
   "metadata": {},
   "outputs": [],
   "source": [
    "portfolio1"
   ]
  },
  {
   "cell_type": "code",
   "execution_count": null,
   "metadata": {},
   "outputs": [],
   "source": [
    "Q1 = np.quantile(portfolio1.price_change,0.25)\n",
    "Q3 = np.quantile(portfolio1.price_change,0.75)\n"
   ]
  },
  {
   "cell_type": "code",
   "execution_count": null,
   "metadata": {},
   "outputs": [],
   "source": []
  },
  {
   "cell_type": "code",
   "execution_count": null,
   "metadata": {},
   "outputs": [],
   "source": []
  },
  {
   "cell_type": "code",
   "execution_count": null,
   "metadata": {},
   "outputs": [],
   "source": []
  },
  {
   "cell_type": "code",
   "execution_count": null,
   "metadata": {},
   "outputs": [],
   "source": []
  },
  {
   "cell_type": "code",
   "execution_count": null,
   "metadata": {},
   "outputs": [],
   "source": []
  },
  {
   "cell_type": "code",
   "execution_count": null,
   "metadata": {},
   "outputs": [],
   "source": []
  },
  {
   "cell_type": "code",
   "execution_count": null,
   "metadata": {},
   "outputs": [],
   "source": []
  },
  {
   "cell_type": "code",
   "execution_count": null,
   "metadata": {},
   "outputs": [],
   "source": []
  },
  {
   "cell_type": "code",
   "execution_count": null,
   "metadata": {},
   "outputs": [],
   "source": []
  },
  {
   "cell_type": "code",
   "execution_count": null,
   "metadata": {},
   "outputs": [],
   "source": [
    "portfolio1.groupby('tic')['price_change'].mean()"
   ]
  },
  {
   "cell_type": "code",
   "execution_count": null,
   "metadata": {},
   "outputs": [],
   "source": []
  },
  {
   "cell_type": "code",
   "execution_count": null,
   "metadata": {},
   "outputs": [],
   "source": [
    "#portfolio2.sort_values(by = 'R&D / Assets', ascending = False).head(50)"
   ]
  },
  {
   "cell_type": "code",
   "execution_count": null,
   "metadata": {},
   "outputs": [],
   "source": [
    "#Above_Five_Asset = stocks[stocks['atq'] >= 100]"
   ]
  },
  {
   "cell_type": "code",
   "execution_count": null,
   "metadata": {},
   "outputs": [],
   "source": [
    "#Above_Five_Asset.sort_values(by = 'R&D / Assets', ascending = False).head(50)"
   ]
  },
  {
   "cell_type": "code",
   "execution_count": null,
   "metadata": {},
   "outputs": [],
   "source": [
    "#Limited_Metric = Above_Five_Asset[Above_Five_Asset['R&D / Assets'] <= 0.02]"
   ]
  },
  {
   "cell_type": "code",
   "execution_count": null,
   "metadata": {},
   "outputs": [],
   "source": [
    "#Limited_Metric.sort_values(by = 'R&D / Assets', ascending = False).head(10)"
   ]
  },
  {
   "cell_type": "code",
   "execution_count": null,
   "metadata": {},
   "outputs": [],
   "source": [
    "#def selectTicker():\n",
    "  #  df = None\n",
    "   # entry = input('Enter ticker: ')\n",
    "   # ticker = entry.upper()\n",
    "   # df = Limited_Metric.query(f'tic == \"{ticker}\"')\n",
    "   # if df.atq.min() < 200:\n",
    "   #     print('Not a good investment.')\n",
    "   #     selectTicker()\n",
    "   # return df\n",
    "    \n",
    "\n",
    "#x = selectTicker()\n",
    "\n",
    "#x"
   ]
  },
  {
   "cell_type": "code",
   "execution_count": null,
   "metadata": {},
   "outputs": [],
   "source": [
    "#Limited_Metric.head()"
   ]
  },
  {
   "cell_type": "code",
   "execution_count": null,
   "metadata": {},
   "outputs": [],
   "source": [
    "#Logitech = db.raw_sql(\"select datadate, tic, prccq, xrdq, actq, atq from comp.fundq where tic = 'LOGI'\")"
   ]
  },
  {
   "cell_type": "code",
   "execution_count": null,
   "metadata": {},
   "outputs": [],
   "source": [
    "#portfolio1['10to20%_return_in_1yr'] = ((portfolio1['future_1-yr_price_change'] >=0.1) & (portfolio1['future_1-yr_price_change'] <= 0.2 )) * 1\n",
    "#portfolio1['20to30%_return_in_1yr'] = ((portfolio1['future_1-yr_price_change'] >=0.2) & (portfolio1['future_1-yr_price_change'] <= 0.3 )) * 1\n",
    "#portfolio1['30to40%_return_in_1yr'] = ((portfolio1['future_1-yr_price_change'] >=0.3) & (portfolio1['future_1-yr_price_change'] <= 0.4 )) * 1\n",
    "#portfolio1['40to50%_return_in_1yr'] = ((portfolio1['future_1-yr_price_change'] >=0.4) & (portfolio1['future_1-yr_price_change'] <= 0.5 )) * 1\n",
    "#portfolio1['50%+_return_in_1yr'] = (portfolio1['future_1-yr_price_change'] >=0.5) * 1"
   ]
  },
  {
   "cell_type": "code",
   "execution_count": null,
   "metadata": {},
   "outputs": [],
   "source": [
    "#portfolio2['10to20%_return_in_1yr'] = ((portfolio2['future_1-yr_price_change'] >=0.1) & (portfolio2['future_1-yr_price_change'] <= 0.2 )) * 1\n",
    "#portfolio2['20to30%_return_in_1yr'] = ((portfolio2['future_1-yr_price_change'] >=0.2) & (portfolio2['future_1-yr_price_change'] <= 0.3 )) * 1\n",
    "#portfolio2['30to40%_return_in_1yr'] = ((portfolio2['future_1-yr_price_change'] >=0.3) & (portfolio2['future_1-yr_price_change'] <= 0.4 )) * 1\n",
    "#portfolio2['40to50%_return_in_1yr'] = ((portfolio2['future_1-yr_price_change'] >=0.4) & (portfolio2['future_1-yr_price_change'] <= 0.5 )) * 1\n",
    "#portfolio2['50%+_return_in_1yr'] = (portfolio2['future_1-yr_price_change'] >=0.5) * 1"
   ]
  },
  {
   "cell_type": "code",
   "execution_count": null,
   "metadata": {},
   "outputs": [],
   "source": [
    "#dt = tree.DecisionTreeClassifier(max_depth=4)"
   ]
  },
  {
   "cell_type": "code",
   "execution_count": null,
   "metadata": {},
   "outputs": [],
   "source": [
    "#portfolio1.head()"
   ]
  },
  {
   "cell_type": "code",
   "execution_count": null,
   "metadata": {},
   "outputs": [],
   "source": [
    "#dropxx = portfolio1[portfolio1.tic.isna()].index\n",
    "#portfolio1.drop(dropxx,inplace=True)"
   ]
  },
  {
   "cell_type": "code",
   "execution_count": null,
   "metadata": {},
   "outputs": [],
   "source": [
    "#portfolio1.isna().any()"
   ]
  },
  {
   "cell_type": "code",
   "execution_count": null,
   "metadata": {},
   "outputs": [],
   "source": [
    "#drop99 = portfolio1[portfolio1['future_1-yr_price_change'].isna()].index\n",
    "#portfolio1.drop(drop99,inplace=True)"
   ]
  },
  {
   "cell_type": "code",
   "execution_count": null,
   "metadata": {},
   "outputs": [],
   "source": [
    "#drop98 = portfolio1[portfolio1['future_2-yr_price_change'].isna()].index\n",
    "#portfolio1.drop(drop98,inplace=True)"
   ]
  },
  {
   "cell_type": "code",
   "execution_count": null,
   "metadata": {},
   "outputs": [],
   "source": [
    "#drop97 = portfolio1[portfolio1['future_3-yr_price_change'].isna()].index\n",
    "#portfolio1.drop(drop97,inplace=True)"
   ]
  },
  {
   "cell_type": "code",
   "execution_count": null,
   "metadata": {},
   "outputs": [],
   "source": [
    "#portfolio1.isna().any()"
   ]
  },
  {
   "cell_type": "code",
   "execution_count": null,
   "metadata": {},
   "outputs": [],
   "source": [
    "#X = portfolio1.drop({'datadate','20to30%_return_in_1yr','tic' },axis=1)"
   ]
  },
  {
   "cell_type": "code",
   "execution_count": null,
   "metadata": {},
   "outputs": [],
   "source": [
    "#Y = portfolio1['20to30%_return_in_1yr']"
   ]
  },
  {
   "cell_type": "code",
   "execution_count": null,
   "metadata": {},
   "outputs": [],
   "source": [
    "#dt.fit(X,Y)"
   ]
  },
  {
   "cell_type": "code",
   "execution_count": null,
   "metadata": {},
   "outputs": [],
   "source": [
    "#dt_feature_names = list(X.columns)\n",
    "#dt_target_names = [str(s) for s in Y.unique()]\n",
    "#tree.export_graphviz(dt, out_file='tree.dot', \n",
    "    #feature_names=dt_feature_names, class_names=dt_target_names,\n",
    "    #filled=True)  \n",
    "#graph = pydotplus.graph_from_dot_file('tree.dot')\n",
    "#Image(graph.create_png())\n",
    "\n",
    "#If we want companies that have 20-30% return in 1 year and high R&D/Sales, "
   ]
  },
  {
   "cell_type": "code",
   "execution_count": null,
   "metadata": {},
   "outputs": [],
   "source": [
    "#portfolio1[(portfolio1['R&D / Sales'] <= 19103.25) & (portfolio1['txpd'] <= -16.334)]"
   ]
  },
  {
   "cell_type": "code",
   "execution_count": null,
   "metadata": {},
   "outputs": [],
   "source": [
    "#dropa = portfolio2[portfolio2['future_1-yr_price_change'].isna()].index\n",
    "#dropb = portfolio2[portfolio2['future_2-yr_price_change'].isna()].index\n",
    "#dropc = portfolio2[portfolio2['future_3-yr_price_change'].isna()].index"
   ]
  },
  {
   "cell_type": "code",
   "execution_count": null,
   "metadata": {},
   "outputs": [],
   "source": [
    "#portfolio2.drop(dropa,inplace=True)\n",
    "\n"
   ]
  },
  {
   "cell_type": "code",
   "execution_count": null,
   "metadata": {},
   "outputs": [],
   "source": [
    "#dropb = portfolio2[portfolio2['future_2-yr_price_change'].isna()].index\n",
    "#portfolio2.drop(dropb,inplace=True)\n"
   ]
  },
  {
   "cell_type": "code",
   "execution_count": null,
   "metadata": {},
   "outputs": [],
   "source": [
    "#dropc = portfolio2[portfolio2['future_3-yr_price_change'].isna()].index\n",
    "#portfolio2.drop(dropc,inplace=True)"
   ]
  },
  {
   "cell_type": "code",
   "execution_count": null,
   "metadata": {},
   "outputs": [],
   "source": [
    "#portfolio2.dropna(how='any')"
   ]
  },
  {
   "cell_type": "code",
   "execution_count": null,
   "metadata": {},
   "outputs": [],
   "source": [
    "#portfolio2.shape"
   ]
  },
  {
   "cell_type": "code",
   "execution_count": null,
   "metadata": {},
   "outputs": [],
   "source": [
    "#X = portfolio2.drop({'datadate','20to30%_return_in_1yr','tic' },axis=1)"
   ]
  },
  {
   "cell_type": "code",
   "execution_count": null,
   "metadata": {},
   "outputs": [],
   "source": [
    "#Y = portfolio2['20to30%_return_in_1yr']"
   ]
  },
  {
   "cell_type": "code",
   "execution_count": null,
   "metadata": {},
   "outputs": [],
   "source": [
    "#dt.fit(X,Y)"
   ]
  },
  {
   "cell_type": "code",
   "execution_count": null,
   "metadata": {},
   "outputs": [],
   "source": [
    "#dt_feature_names = list(X.columns)\n",
    "#dt_target_names = [str(s) for s in Y.unique()]\n",
    "#tree.export_graphviz(dt, out_file='tree.dot', \n",
    "    #feature_names=dt_feature_names, class_names=dt_target_names,\n",
    "    #filled=True)  \n",
    "#graph = pydotplus.graph_from_dot_file('tree.dot')\n",
    "#Image(graph.create_png())"
   ]
  },
  {
   "cell_type": "code",
   "execution_count": null,
   "metadata": {},
   "outputs": [],
   "source": [
    "#portfolio2[(portfolio2['future_1-yr_price_change'] >= 0.3) & (portfolio2['30to40%_return_in_1yr'] <=0.5)]"
   ]
  },
  {
   "cell_type": "code",
   "execution_count": null,
   "metadata": {},
   "outputs": [],
   "source": [
    "# try to see which portfolio outperform the other\n",
    "# median"
   ]
  },
  {
   "cell_type": "code",
   "execution_count": null,
   "metadata": {
    "scrolled": true
   },
   "outputs": [],
   "source": [
    "Agriculture = (stocks[(stocks.sich > 0) & (stocks.sich < 1000)])"
   ]
  },
  {
   "cell_type": "code",
   "execution_count": null,
   "metadata": {},
   "outputs": [],
   "source": [
    "Agriculture.shape"
   ]
  },
  {
   "cell_type": "code",
   "execution_count": null,
   "metadata": {},
   "outputs": [],
   "source": [
    "Mining = (stocks1[(stocks1.sich >= 1000) & (stocks1.sich < 1500)])"
   ]
  },
  {
   "cell_type": "code",
   "execution_count": null,
   "metadata": {},
   "outputs": [],
   "source": [
    "Mining.shape"
   ]
  },
  {
   "cell_type": "code",
   "execution_count": null,
   "metadata": {},
   "outputs": [],
   "source": [
    "Finance = (stocks1[(stocks1.sich >= 6000) & (stocks1.sich < 6800)])"
   ]
  },
  {
   "cell_type": "code",
   "execution_count": null,
   "metadata": {},
   "outputs": [],
   "source": [
    "Finance.shape"
   ]
  },
  {
   "cell_type": "code",
   "execution_count": null,
   "metadata": {},
   "outputs": [],
   "source": [
    "Services = (stocks1[(stocks1.sich >= 7000) & (stocks1.sich < 9000)])"
   ]
  },
  {
   "cell_type": "code",
   "execution_count": null,
   "metadata": {},
   "outputs": [],
   "source": [
    "Services.shape"
   ]
  },
  {
   "cell_type": "code",
   "execution_count": null,
   "metadata": {},
   "outputs": [],
   "source": [
    "Transportation = (stocks1[(stocks1.sich >= 4000) & (stocks1.sich < 5000)])"
   ]
  },
  {
   "cell_type": "code",
   "execution_count": null,
   "metadata": {
    "scrolled": true
   },
   "outputs": [],
   "source": [
    "Transportation.shape"
   ]
  },
  {
   "cell_type": "code",
   "execution_count": null,
   "metadata": {},
   "outputs": [],
   "source": [
    "Manufacturing = (stocks1[(stocks1.sich >= 2000) & (stocks1.sich < 4000)])"
   ]
  },
  {
   "cell_type": "code",
   "execution_count": null,
   "metadata": {},
   "outputs": [],
   "source": [
    "Manufacturing.shape"
   ]
  },
  {
   "cell_type": "code",
   "execution_count": null,
   "metadata": {},
   "outputs": [],
   "source": [
    "stocks1[\"R&D / Sales\"] = stocks1[\"xrd\"]/stocks1[\"sale\"]"
   ]
  },
  {
   "cell_type": "code",
   "execution_count": null,
   "metadata": {},
   "outputs": [],
   "source": [
    "stocks1.head()"
   ]
  },
  {
   "cell_type": "code",
   "execution_count": null,
   "metadata": {},
   "outputs": [],
   "source": [
    "Manufacturing.head()"
   ]
  },
  {
   "cell_type": "code",
   "execution_count": null,
   "metadata": {},
   "outputs": [],
   "source": [
    "Manufacturing['R&D / Sales'].mean()"
   ]
  },
  {
   "cell_type": "code",
   "execution_count": null,
   "metadata": {},
   "outputs": [],
   "source": [
    "Services['R&D / Sales'].mean()"
   ]
  },
  {
   "cell_type": "code",
   "execution_count": null,
   "metadata": {},
   "outputs": [],
   "source": [
    "Manufacturing.sort_values(by = 'R&D / Sales', ascending = False).head(30)"
   ]
  },
  {
   "cell_type": "code",
   "execution_count": null,
   "metadata": {},
   "outputs": [],
   "source": [
    "Manufacturing.groupby(by=[\"tic\"]).mean()"
   ]
  },
  {
   "cell_type": "code",
   "execution_count": null,
   "metadata": {},
   "outputs": [],
   "source": [
    "Manufacturing.sort_values(by = 'R&D / Sales', ascending = False)"
   ]
  },
  {
   "cell_type": "code",
   "execution_count": null,
   "metadata": {},
   "outputs": [],
   "source": [
    "#threshold for sales\n",
    "#scale\n",
    "#problem is R&D/sales is highest in companies with very low sales\n",
    "#Write up by June 1 -> most important\n",
    "#Before 4pm\n",
    "#R&D/Assets \n",
    "#Analysis of a more stable company\n",
    "#Maybe different impact on stock return for both of these\n",
    "#Market adjusted return\n",
    "#What if they just invested in the market\n",
    "#write it in a way that is easy for a non-business person"
   ]
  },
  {
   "cell_type": "code",
   "execution_count": null,
   "metadata": {},
   "outputs": [],
   "source": []
  }
 ],
 "metadata": {
  "kernelspec": {
   "display_name": "Python 3",
   "language": "python",
   "name": "python3"
  },
  "language_info": {
   "codemirror_mode": {
    "name": "ipython",
    "version": 3
   },
   "file_extension": ".py",
   "mimetype": "text/x-python",
   "name": "python",
   "nbconvert_exporter": "python",
   "pygments_lexer": "ipython3",
   "version": "3.8.5"
  }
 },
 "nbformat": 4,
 "nbformat_minor": 4
}
